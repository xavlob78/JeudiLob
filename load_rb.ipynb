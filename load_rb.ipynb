{
 "cells": [
  {
   "cell_type": "code",
   "execution_count": 3,
   "metadata": {},
   "outputs": [],
   "source": [
    "import dlt\n",
    "from dlt.sources.helpers.rest_client.auth import APIKeyAuth\n",
    "from dlt.sources.rest_api import RESTAPIConfig\n",
    "from dlt.sources.rest_api import rest_api_source, rest_api_resources"
   ]
  },
  {
   "cell_type": "code",
   "execution_count": 4,
   "metadata": {},
   "outputs": [],
   "source": [
    "auth = APIKeyAuth(name=\"X-API-Key\", \n",
    "                   api_key=dlt.secrets[\"sources.bfrb.api_key\"], \n",
    "                location=\"header\") \n",
    "url=dlt.config[\"sources.bfrb.url\"]"
   ]
  },
  {
   "cell_type": "code",
   "execution_count": 10,
   "metadata": {},
   "outputs": [],
   "source": [
    "@dlt.source\n",
    "def order_source():\n",
    "    source: RESTAPIConfig = {\n",
    "        \"client\": {\n",
    "            \"base_url\": url,\n",
    "            \"auth\": auth,\n",
    "        }   ,\n",
    "        \"resources\": [\n",
    "            {\n",
    "               \"name\": \"store\",\n",
    "                \"write_disposition\": \"replace\",\n",
    "                \"endpoint\": {\n",
    "                    \"path\": \"/global/store\",\n",
    "                },\n",
    "            }\n",
    "        ]\n",
    "    }\n",
    "\n",
    "    yield from rest_api_resources(source)"
   ]
  },
  {
   "cell_type": "code",
   "execution_count": 13,
   "metadata": {},
   "outputs": [],
   "source": [
    "pipeline = dlt.pipeline(\n",
    "    pipeline_name=\"jeudi_rb\",\n",
    "    destination=dlt.destinations.duckdb(\"Data/rb.db\"),\n",
    "    dataset_name=\"chick\"\n",
    ")"
   ]
  },
  {
   "cell_type": "code",
   "execution_count": 15,
   "metadata": {},
   "outputs": [
    {
     "name": "stderr",
     "output_type": "stream",
     "text": [
      "2025-05-12 10:36:16,531|[WARNING]|22776|21164|dlt|client.py|detect_paginator:312|Fallback paginator used: SinglePagePaginator at 187ae1b9110. Please provide right paginator manually.\n"
     ]
    },
    {
     "name": "stdout",
     "output_type": "stream",
     "text": [
      "Pipeline jeudi_rb load step completed in 1.21 seconds\n",
      "1 load package(s) were loaded to destination duckdb and into dataset chick\n",
      "The duckdb destination used duckdb:///c:\\Dev\\Lobellia\\Data/rb.db location to store data\n",
      "Load package 1747038976.3651254 is LOADED and contains no failed jobs\n"
     ]
    }
   ],
   "source": [
    "load_info = pipeline.run(order_source())\n",
    "\n",
    "print(load_info)"
   ]
  },
  {
   "cell_type": "code",
   "execution_count": null,
   "metadata": {},
   "outputs": [],
   "source": [
    "def order_source():\n",
    "    source: RESTAPIConfig = {\n",
    "        \"client\": {\n",
    "            \"base_url\": url,\n",
    "            \"auth\": auth,\n",
    "        }   ,\n",
    "        \"resources\": [\n",
    "            {\n",
    "               \"name\": \"store\",\n",
    "                \"write_disposition\": \"replace\",\n",
    "                \"endpoint\": {\n",
    "                    \"path\": \"/global/store\",\n",
    "                },\n",
    "            },\n",
    "            {\n",
    "                \"name\": \"order_picture\",\n",
    "                \"write_disposition\": \"apppend\",\n",
    "                \"endpoint\": {\n",
    "                    \"path\": \"/sale/reports/order-picture?store-id={store-id}\",\n",
    "                    \"params\": {\n",
    "                        \"timestamp-from\": \"20240101000000\",   \n",
    "                        \"store-id\": {\n",
    "                            \"type\": \"resolve\",\n",
    "                            \"resource\": \"store\",\n",
    "                            \"field\": \"id\",\n",
    "                        },\n",
    "                    }   ,\n",
    "                \"data_selector\": \"order-pictures[*]\"\n",
    "                },\n",
    "            }\n",
    " \n",
    "    yield from rest_api_resources(source)"
   ]
  },
  {
   "cell_type": "code",
   "execution_count": null,
   "metadata": {},
   "outputs": [],
   "source": [
    "pipeline = dlt.pipeline(\n",
    "    pipeline_name=\"jeudi_rb\",\n",
    "    destination=dlt.destinations.duckdb(\"Data/rb.db\"),\n",
    "    dataset_name=\"chick\"\n",
    ")"
   ]
  }
 ],
 "metadata": {
  "kernelspec": {
   "display_name": ".venv",
   "language": "python",
   "name": "python3"
  },
  "language_info": {
   "codemirror_mode": {
    "name": "ipython",
    "version": 3
   },
   "file_extension": ".py",
   "mimetype": "text/x-python",
   "name": "python",
   "nbconvert_exporter": "python",
   "pygments_lexer": "ipython3",
   "version": "3.11.11"
  }
 },
 "nbformat": 4,
 "nbformat_minor": 2
}
