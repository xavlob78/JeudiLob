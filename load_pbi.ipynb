{
 "cells": [
  {
   "cell_type": "code",
   "execution_count": 1,
   "metadata": {},
   "outputs": [],
   "source": [
    "import dlt\n",
    "from dlt.sources.helpers.rest_client import RESTClient\n",
    "from dlt.sources.helpers.rest_client.auth import OAuth2ClientCredentials\n",
    "from dlt.sources.helpers.rest_client.paginators import JSONLinkPaginator\n",
    "from dlt.sources.rest_api import rest_api_source"
   ]
  },
  {
   "cell_type": "code",
   "execution_count": 2,
   "metadata": {},
   "outputs": [],
   "source": [
    "auth = OAuth2ClientCredentials(\n",
    "    access_token_url=dlt.config[\"sources.pbi.access_token_url\"],\n",
    "    client_id=dlt.secrets[\"sources.pbi.client_id\"],\n",
    "    client_secret=dlt.secrets[\"sources.pbi.client_secret\"],\n",
    "    access_token_request_data={\n",
    "        \"scope\":dlt.config[\"sources.pbi.scope\"],\n",
    "        \"grant_type\":\"client_credentials\"\n",
    "    }\n",
    ")"
   ]
  },
  {
   "cell_type": "code",
   "execution_count": 3,
   "metadata": {},
   "outputs": [],
   "source": [
    "@dlt.source\n",
    "def all_data():\n",
    "    return [get_ws]"
   ]
  },
  {
   "cell_type": "code",
   "execution_count": 4,
   "metadata": {},
   "outputs": [],
   "source": [
    "@dlt.resource(table_name=\"workspaces\",write_disposition=\"replace\")\n",
    "def get_ws():\n",
    "    source_config= {\n",
    "        \"client\": {\n",
    "            \"base_url\":dlt.config[\"sources.pbi.base_url\"],\n",
    "            \"auth\":auth\n",
    "        },\n",
    "        \"resources\": [\n",
    "            {\n",
    "                \"name\":\"workspaces\",\n",
    "                \"primary_key\":\"id\",\n",
    "                \"endpoint\": {\n",
    "                    \"path\":\"admin/groups\",\n",
    "                    \"params\":{\n",
    "                        \"$top\": 5000,\n",
    "                        \"$expand\":\"users,reports,datasets\"\n",
    "                    },\n",
    "                },\n",
    "                \"max_table_nesting\":5\n",
    "            },\n",
    "        ],\n",
    "    }\n",
    "\n",
    "    source = rest_api_source(source_config)\n",
    "    for resource in source:\n",
    "        yield resource"
   ]
  },
  {
   "cell_type": "code",
   "execution_count": 8,
   "metadata": {},
   "outputs": [],
   "source": [
    "pipeline = dlt.pipeline(\n",
    "        pipeline_name=\"pbijeudi\",\n",
    "        destination=dlt.destinations.duckdb(\"Db/pbi.db\"),\n",
    "        dataset_name=\"raw\"\n",
    "    )"
   ]
  },
  {
   "cell_type": "code",
   "execution_count": 9,
   "metadata": {},
   "outputs": [
    {
     "name": "stderr",
     "output_type": "stream",
     "text": [
      "2025-05-12 23:34:45,251|[WARNING]|25868|26572|dlt|client.py|detect_paginator:312|Fallback paginator used: SinglePagePaginator at 1b745149bd0. Please provide right paginator manually.\n"
     ]
    },
    {
     "name": "stdout",
     "output_type": "stream",
     "text": [
      "Pipeline pbijeudi load step completed in 0.39 seconds\n",
      "1 load package(s) were loaded to destination duckdb and into dataset raw\n",
      "The duckdb destination used duckdb:///c:\\Dev\\Lobellia\\Db/pbi.db location to store data\n",
      "Load package 1747085683.450759 is LOADED and contains no failed jobs\n"
     ]
    }
   ],
   "source": [
    "load_info = pipeline.run(all_data())\n",
    "print(load_info)"
   ]
  }
 ],
 "metadata": {
  "kernelspec": {
   "display_name": ".venv",
   "language": "python",
   "name": "python3"
  },
  "language_info": {
   "codemirror_mode": {
    "name": "ipython",
    "version": 3
   },
   "file_extension": ".py",
   "mimetype": "text/x-python",
   "name": "python",
   "nbconvert_exporter": "python",
   "pygments_lexer": "ipython3",
   "version": "3.11.11"
  }
 },
 "nbformat": 4,
 "nbformat_minor": 2
}
